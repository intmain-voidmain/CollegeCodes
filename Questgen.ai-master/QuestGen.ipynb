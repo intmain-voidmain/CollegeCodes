{
 "cells": [
  {
   "cell_type": "code",
   "execution_count": null,
   "id": "8f910bae",
   "metadata": {
    "tags": []
   },
   "outputs": [
    {
     "name": "stderr",
     "output_type": "stream",
     "text": [
      "C:\\Users\\boser\\venv\\lib\\site-packages\\tqdm\\auto.py:22: TqdmWarning: IProgress not found. Please update jupyter and ipywidgets. See https://ipywidgets.readthedocs.io/en/stable/user_install.html\n",
      "  from .autonotebook import tqdm as notebook_tqdm\n",
      "C:\\Users\\boser\\venv\\lib\\site-packages\\transformers\\models\\t5\\tokenization_t5.py:164: FutureWarning: This tokenizer was incorrectly instantiated with a model max length of 512 which will be corrected in Transformers v5.\n",
      "For now, this behavior is kept to avoid breaking backwards compatibility when padding/encoding with `truncation is True`.\n",
      "- Be aware that you SHOULD NOT rely on t5-base automatically truncating your input to 512 when padding/encoding.\n",
      "- If you want to encode/pad to sequences longer than 512 you can either instantiate this tokenizer with `model_max_length` or pass `max_length` when encoding/padding.\n",
      "- To avoid this warning, please instantiate this tokenizer with `model_max_length` set to your preferred value.\n",
      "  warnings.warn(\n"
     ]
    },
    {
     "name": "stdout",
     "output_type": "stream",
     "text": [
      " * Serving Flask app '__main__'\n",
      " * Debug mode: off\n"
     ]
    },
    {
     "name": "stderr",
     "output_type": "stream",
     "text": [
      "WARNING: This is a development server. Do not use it in a production deployment. Use a production WSGI server instead.\n",
      " * Running on http://127.0.0.1:5000\n",
      "Press CTRL+C to quit\n",
      "127.0.0.1 - - [14/Mar/2023 11:44:25] \"GET / HTTP/1.1\" 200 -\n"
     ]
    },
    {
     "name": "stdout",
     "output_type": "stream",
     "text": [
      "{'india': ['The economy of India is the fifth largest in the world and is rapidly growing, driven by industries such as information technology, textiles, and pharmaceuticals.', 'Despite its many achievements, India continues to face challenges such as poverty, corruption, and unequal distribution of wealth and resources.', 'India is home to several important tourist destinations, including the Taj Mahal, one of the Seven Wonders of the World.', 'India has a rich cultural and historical heritage, with a diverse mix of religions, languages, and traditions.', 'India is a country located in South Asia and is the seventh largest in terms of land area.'], 'film industry': ['The country has a federal parliamentary democratic republic form of government and is known for its rich and diverse cuisine, film industry (Bollywood), and literature.'], 'bollywood': ['The country has a federal parliamentary democratic republic form of government and is known for its rich and diverse cuisine, film industry (Bollywood), and literature.'], 'cuisine': ['The country has a federal parliamentary democratic republic form of government and is known for its rich and diverse cuisine, film industry (Bollywood), and literature.']}\n",
      "Running model for generation\n"
     ]
    },
    {
     "name": "stderr",
     "output_type": "stream",
     "text": [
      "C:\\Users\\boser\\venv\\lib\\site-packages\\transformers\\tokenization_utils_base.py:2304: FutureWarning: The `pad_to_max_length` argument is deprecated and will be removed in a future version, use `padding=True` or `padding='longest'` to pad to the longest sequence in the batch, or use `padding='max_length'` to pad to a max length. In this case, you can give a specific length with `max_length` (e.g. `max_length=45`) or leave max_length to None to pad to the maximal input size of the model (e.g. 512 for Bert).\n",
      "  warnings.warn(\n",
      "C:\\Users\\boser\\venv\\lib\\site-packages\\transformers\\models\\t5\\tokenization_t5.py:219: UserWarning: This sequence already has </s>. In future versions this behavior may lead to duplicated eos tokens being added.\n",
      "  warnings.warn(\n",
      "127.0.0.1 - - [14/Mar/2023 11:44:46] \"POST / HTTP/1.1\" 200 -\n"
     ]
    },
    {
     "name": "stdout",
     "output_type": "stream",
     "text": [
      "{'glucose': ['Photosynthesis is a biological process that occurs in plants and some other organisms where light energy is converted into chemical energy stored in the form of glucose (sugar).', 'CO2 is taken in from the air and combined with water in the presence of light to form glucose and oxygen through the reaction 6CO2 + 6H2O + light energy = C6H12O6 + 6O2.', 'The glucose produced is used by the plant as food, while the oxygen is released into the air as a by-product.'], 'chloroplasts': ['This process takes place in chloroplasts, which contain chlorophyll and other pigments that absorb light.'], 'sugar': ['Photosynthesis is a biological process that occurs in plants and some other organisms where light energy is converted into chemical energy stored in the form of glucose (sugar).'], 'oxygen': ['CO2 is taken in from the air and combined with water in the presence of light to form glucose and oxygen through the reaction 6CO2 + 6H2O + light energy = C6H12O6 + 6O2.', 'This process is the primary source of energy for most life on Earth and helps maintain the balance of oxygen in the atmosphere.', 'The glucose produced is used by the plant as food, while the oxygen is released into the air as a by-product.']}\n",
      "Running model for generation\n"
     ]
    },
    {
     "name": "stderr",
     "output_type": "stream",
     "text": [
      "127.0.0.1 - - [14/Mar/2023 11:45:23] \"POST / HTTP/1.1\" 200 -\n"
     ]
    },
    {
     "name": "stdout",
     "output_type": "stream",
     "text": [
      "{'srk': ['SRK is known for his charismatic screen presence, versatility as an actor, and his romantic roles in films such as \"Dilwale Dulhania Le Jayenge,\" \"Kuch Kuch Hota Hai,\" and \"Kal Ho Naa Ho.\"', 'In addition to his acting career, SRK is also a successful businessman and has co-owned the Kolkata Knight Riders team in the Indian Premier League.', 'SRK continues to be one of the most popular and influential figures in Indian entertainment and is widely loved by fans all over the world.', 'Shah Rukh Khan, also known as SRK, is one of the most popular and successful actors in the Indian film industry.'], 'film industry': ['He has also played a variety of characters, including negative roles, and is widely regarded as one of the finest actors in the Indian film industry.', 'Shah Rukh Khan, also known as SRK, is one of the most popular and successful actors in the Indian film industry.'], 'bollywood': ['He is often referred to as the \"King of Bollywood\" and has acted in over 80 Bollywood films.', 'He is often referred to as the \"King of Bollywood\" and has acted in over 80 Bollywood films.'], 'acting career': ['In addition to his acting career, SRK is also a successful businessman and has co-owned the Kolkata Knight Riders team in the Indian Premier League.']}\n",
      "Running model for generation\n"
     ]
    },
    {
     "name": "stderr",
     "output_type": "stream",
     "text": [
      "127.0.0.1 - - [14/Mar/2023 11:46:01] \"POST / HTTP/1.1\" 200 -\n"
     ]
    }
   ],
   "source": [
    "from flask import Flask, request, render_template\n",
    "import nltk\n",
    "import numpy\n",
    "import PyPDF2\n",
    "from pprint import pprint\n",
    "from Questgen import main\n",
    "\n",
    "app = Flask(__name__, template_folder='templates')\n",
    "app.secret_key = 'password'\n",
    "\n",
    "qe = main.BoolQGen()\n",
    "qg = main.QGen()\n",
    "qf = main.FillQGen()\n",
    "\n",
    "@app.route('/', methods=['GET', 'POST'])\n",
    "def generate_questions():\n",
    "    if request.method == 'POST':\n",
    "        input_source = request.form.get(\"input_source\")\n",
    "        if input_source == \"filepicker\":\n",
    "            file = request.files['file']\n",
    "            pdf_reader = PyPDF2.PdfReader(file)\n",
    "            input_text = \"\"\n",
    "            for page in pdf_reader.pages:\n",
    "                input_text += page.extract_text()\n",
    "\n",
    "        elif input_source == \"ortextarea\":\n",
    "            input_text = request.form['input_text']\n",
    "\n",
    "        maxq = request.form['maxq']\n",
    "        payload = {\"input_text\": input_text, \"max_questions\": maxq}\n",
    "        output = qg.predict_shortq(payload)\n",
    "        output2 = qe.predict_boolq(payload)\n",
    "        output3 = qf.predict_fillq(payload)\n",
    "        fill_questions = []\n",
    "        for question in output3:\n",
    "            fill_questions.append(question)\n",
    "        return render_template('index.html', questions=output['questions'],statement=output[\"statement\"],boolean_questions=output2['Boolean Questions'], fill_questions=fill_questions)\n",
    "    return render_template('index.html')\n",
    "\n",
    "if __name__ == '__main__':\n",
    "    app.run()\n",
    "\n"
   ]
  },
  {
   "cell_type": "code",
   "execution_count": null,
   "id": "0a7053a6-acf5-42a1-b8fd-53aaada1ded6",
   "metadata": {},
   "outputs": [],
   "source": []
  }
 ],
 "metadata": {
  "kernelspec": {
   "display_name": "Python 3 (ipykernel)",
   "language": "python",
   "name": "python3"
  },
  "language_info": {
   "codemirror_mode": {
    "name": "ipython",
    "version": 3
   },
   "file_extension": ".py",
   "mimetype": "text/x-python",
   "name": "python",
   "nbconvert_exporter": "python",
   "pygments_lexer": "ipython3",
   "version": "3.10.10"
  }
 },
 "nbformat": 4,
 "nbformat_minor": 5
}
