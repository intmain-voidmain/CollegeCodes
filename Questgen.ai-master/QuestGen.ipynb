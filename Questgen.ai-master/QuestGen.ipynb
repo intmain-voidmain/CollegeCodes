{
 "cells": [
  {
   "cell_type": "code",
   "execution_count": null,
   "id": "8f910bae",
   "metadata": {
    "tags": []
   },
   "outputs": [
    {
     "name": "stderr",
     "output_type": "stream",
     "text": [
      "C:\\Users\\boser\\venv\\lib\\site-packages\\tqdm\\auto.py:22: TqdmWarning: IProgress not found. Please update jupyter and ipywidgets. See https://ipywidgets.readthedocs.io/en/stable/user_install.html\n",
      "  from .autonotebook import tqdm as notebook_tqdm\n",
      "C:\\Users\\boser\\venv\\lib\\site-packages\\transformers\\models\\t5\\tokenization_t5.py:164: FutureWarning: This tokenizer was incorrectly instantiated with a model max length of 512 which will be corrected in Transformers v5.\n",
      "For now, this behavior is kept to avoid breaking backwards compatibility when padding/encoding with `truncation is True`.\n",
      "- Be aware that you SHOULD NOT rely on t5-base automatically truncating your input to 512 when padding/encoding.\n",
      "- If you want to encode/pad to sequences longer than 512 you can either instantiate this tokenizer with `model_max_length` or pass `max_length` when encoding/padding.\n",
      "- To avoid this warning, please instantiate this tokenizer with `model_max_length` set to your preferred value.\n",
      "  warnings.warn(\n"
     ]
    },
    {
     "name": "stdout",
     "output_type": "stream",
     "text": [
      " * Serving Flask app '__main__'\n",
      " * Debug mode: off\n"
     ]
    },
    {
     "name": "stderr",
     "output_type": "stream",
     "text": [
      "WARNING: This is a development server. Do not use it in a production deployment. Use a production WSGI server instead.\n",
      " * Running on http://127.0.0.1:5000\n",
      "Press CTRL+C to quit\n",
      "127.0.0.1 - - [10/Feb/2023 22:56:37] \"GET / HTTP/1.1\" 200 -\n",
      "C:\\Users\\boser\\venv\\lib\\site-packages\\transformers\\tokenization_utils_base.py:2304: FutureWarning: The `pad_to_max_length` argument is deprecated and will be removed in a future version, use `padding=True` or `padding='longest'` to pad to the longest sequence in the batch, or use `padding='max_length'` to pad to a max length. In this case, you can give a specific length with `max_length` (e.g. `max_length=45`) or leave max_length to None to pad to the maximal input size of the model (e.g. 512 for Bert).\n",
      "  warnings.warn(\n",
      "C:\\Users\\boser\\venv\\lib\\site-packages\\transformers\\models\\t5\\tokenization_t5.py:219: UserWarning: This sequence already has </s>. In future versions this behavior may lead to duplicated eos tokens being added.\n",
      "  warnings.warn(\n"
     ]
    },
    {
     "name": "stdout",
     "output_type": "stream",
     "text": [
      "Running model for generation\n"
     ]
    },
    {
     "name": "stderr",
     "output_type": "stream",
     "text": [
      "127.0.0.1 - - [10/Feb/2023 22:56:46] \"POST / HTTP/1.1\" 200 -\n"
     ]
    }
   ],
   "source": [
    "# import tkinter as tk\n",
    "# from tkinter import filedialog\n",
    "# from pprint import pprint\n",
    "# import nltk\n",
    "# import numpy\n",
    "\n",
    "# from Questgen import main\n",
    "\n",
    "# class Application(tk.Frame):\n",
    "#     def __init__(self, master=None):\n",
    "#         super().__init__(master)\n",
    "#         self.qg = main.QGen()\n",
    "#         self.qe = main.BoolQGen()\n",
    "#         self.pack()\n",
    "#         self.create_widgets()\n",
    "\n",
    "#     def create_widgets(self):\n",
    "#         self.browse_button = tk.Button(self)\n",
    "#         self.browse_button[\"text\"] = \"Browse\"\n",
    "#         self.browse_button[\"command\"] = self.open_file\n",
    "#         self.browse_button.pack(side=\"top\")\n",
    "\n",
    "#         self.quit = tk.Button(self, text=\"QUIT\", fg=\"red\",\n",
    "#                               command=root.destroy)\n",
    "#         self.quit.pack(side=\"bottom\")\n",
    "\n",
    "#     def open_file(self):\n",
    "#         file_path = filedialog.askopenfilename()\n",
    "#         with open(file_path, 'r') as f:\n",
    "#             payload = {\"input_text\": f.read()}\n",
    "\n",
    "#         output = self.qg.predict_shortq(payload)\n",
    "#         pprint(output)\n",
    "\n",
    "# root = tk.Tk()\n",
    "# app = Application(master=root)\n",
    "# app.mainloop()\n",
    "\n",
    "# from flask import Flask, request, jsonify\n",
    "# from pprint import pprint\n",
    "# import nltk\n",
    "# import numpy\n",
    "# from Questgen import main\n",
    "\n",
    "# app = Flask(__name__)\n",
    "\n",
    "# qe = main.BoolQGen()\n",
    "# qg = main.QGen()\n",
    "\n",
    "# @app.route('/', methods=['GET', 'POST'])\n",
    "# def generate_questions():\n",
    "#     if request.method == 'POST':\n",
    "#         file = request.files['file']\n",
    "#         input_text = file.read().decode(\"utf-8\")\n",
    "#         payload = {\"input_text\": input_text}\n",
    "#         output = qg.predict_shortq(payload)\n",
    "#         output_str = str(output)\n",
    "#         output_str = output_str.replace(\"'\", '\"')\n",
    "#         output_str = output_str.replace(\"{\", \"{\\n\")\n",
    "#         output_str = output_str.replace(\"}\", \"\\n}\")\n",
    "#         output_str = output_str.replace(\",\", \",\\n\")\n",
    "#         return output_str\n",
    "#     return '''\n",
    "#         <form method=\"post\" enctype=\"multipart/form-data\">\n",
    "#           <input type=\"file\" name=\"file\">\n",
    "#           <input type=\"submit\">\n",
    "#         </form>\n",
    "#     '''\n",
    "\n",
    "# if __name__ == '__main__':\n",
    "#     app.run()\n",
    "\n",
    "from flask import Flask, request, render_template\n",
    "from pprint import pprint\n",
    "import nltk\n",
    "import numpy\n",
    "from Questgen import main\n",
    "\n",
    "app = Flask(__name__, template_folder='templates')\n",
    "app.secret_key = 'password'\n",
    "\n",
    "qe = main.BoolQGen()\n",
    "qg = main.QGen()\n",
    "\n",
    "@app.route('/', methods=['GET', 'POST'])\n",
    "def generate_questions():\n",
    "    if request.method == 'POST':\n",
    "        file = request.files['file']\n",
    "        input_text = file.read().decode(\"utf-8\")\n",
    "        payload = {\"input_text\": input_text}\n",
    "        output = qg.predict_shortq(payload)\n",
    "        return render_template('index.html', questions=output['questions'],statement=output[\"statement\"])\n",
    "    return render_template('index.html')\n",
    "\n",
    "if __name__ == '__main__':\n",
    "    app.run()\n",
    "\n"
   ]
  }
 ],
 "metadata": {
  "kernelspec": {
   "display_name": "Python 3 (ipykernel)",
   "language": "python",
   "name": "python3"
  },
  "language_info": {
   "codemirror_mode": {
    "name": "ipython",
    "version": 3
   },
   "file_extension": ".py",
   "mimetype": "text/x-python",
   "name": "python",
   "nbconvert_exporter": "python",
   "pygments_lexer": "ipython3",
   "version": "3.10.10"
  }
 },
 "nbformat": 4,
 "nbformat_minor": 5
}
