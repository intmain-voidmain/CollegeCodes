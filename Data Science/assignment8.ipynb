{
 "cells": [
  {
   "cell_type": "code",
   "execution_count": 6,
   "id": "d885c9c5",
   "metadata": {},
   "outputs": [],
   "source": [
    "import pandas as pd\n",
    "import numpy as np\n",
    "import matplotlib.pyplot as plt "
   ]
  },
  {
   "cell_type": "code",
   "execution_count": 4,
   "id": "f8cdf987",
   "metadata": {},
   "outputs": [
    {
     "data": {
      "text/html": [
       "<div>\n",
       "<style scoped>\n",
       "    .dataframe tbody tr th:only-of-type {\n",
       "        vertical-align: middle;\n",
       "    }\n",
       "\n",
       "    .dataframe tbody tr th {\n",
       "        vertical-align: top;\n",
       "    }\n",
       "\n",
       "    .dataframe thead th {\n",
       "        text-align: right;\n",
       "    }\n",
       "</style>\n",
       "<table border=\"1\" class=\"dataframe\">\n",
       "  <thead>\n",
       "    <tr style=\"text-align: right;\">\n",
       "      <th></th>\n",
       "      <th>a</th>\n",
       "      <th>b</th>\n",
       "      <th>c</th>\n",
       "    </tr>\n",
       "  </thead>\n",
       "  <tbody>\n",
       "    <tr>\n",
       "      <th>0</th>\n",
       "      <td>3.198456</td>\n",
       "      <td>-0.355223</td>\n",
       "      <td>-0.076214</td>\n",
       "    </tr>\n",
       "    <tr>\n",
       "      <th>1</th>\n",
       "      <td>1.177682</td>\n",
       "      <td>1.698166</td>\n",
       "      <td>-2.603367</td>\n",
       "    </tr>\n",
       "    <tr>\n",
       "      <th>2</th>\n",
       "      <td>-0.219145</td>\n",
       "      <td>1.056723</td>\n",
       "      <td>-3.271361</td>\n",
       "    </tr>\n",
       "    <tr>\n",
       "      <th>3</th>\n",
       "      <td>0.697890</td>\n",
       "      <td>0.331154</td>\n",
       "      <td>-0.632918</td>\n",
       "    </tr>\n",
       "    <tr>\n",
       "      <th>4</th>\n",
       "      <td>1.570431</td>\n",
       "      <td>0.332703</td>\n",
       "      <td>-1.078921</td>\n",
       "    </tr>\n",
       "    <tr>\n",
       "      <th>...</th>\n",
       "      <td>...</td>\n",
       "      <td>...</td>\n",
       "      <td>...</td>\n",
       "    </tr>\n",
       "    <tr>\n",
       "      <th>995</th>\n",
       "      <td>1.007694</td>\n",
       "      <td>1.120425</td>\n",
       "      <td>-0.298400</td>\n",
       "    </tr>\n",
       "    <tr>\n",
       "      <th>996</th>\n",
       "      <td>0.396747</td>\n",
       "      <td>0.621701</td>\n",
       "      <td>-1.531117</td>\n",
       "    </tr>\n",
       "    <tr>\n",
       "      <th>997</th>\n",
       "      <td>2.993595</td>\n",
       "      <td>-0.319250</td>\n",
       "      <td>-0.397949</td>\n",
       "    </tr>\n",
       "    <tr>\n",
       "      <th>998</th>\n",
       "      <td>2.021638</td>\n",
       "      <td>0.746515</td>\n",
       "      <td>-2.079520</td>\n",
       "    </tr>\n",
       "    <tr>\n",
       "      <th>999</th>\n",
       "      <td>1.361518</td>\n",
       "      <td>-0.432957</td>\n",
       "      <td>-1.273201</td>\n",
       "    </tr>\n",
       "  </tbody>\n",
       "</table>\n",
       "<p>1000 rows × 3 columns</p>\n",
       "</div>"
      ],
      "text/plain": [
       "            a         b         c\n",
       "0    3.198456 -0.355223 -0.076214\n",
       "1    1.177682  1.698166 -2.603367\n",
       "2   -0.219145  1.056723 -3.271361\n",
       "3    0.697890  0.331154 -0.632918\n",
       "4    1.570431  0.332703 -1.078921\n",
       "..        ...       ...       ...\n",
       "995  1.007694  1.120425 -0.298400\n",
       "996  0.396747  0.621701 -1.531117\n",
       "997  2.993595 -0.319250 -0.397949\n",
       "998  2.021638  0.746515 -2.079520\n",
       "999  1.361518 -0.432957 -1.273201\n",
       "\n",
       "[1000 rows x 3 columns]"
      ]
     },
     "execution_count": 4,
     "metadata": {},
     "output_type": "execute_result"
    }
   ],
   "source": [
    "df4 = pd.DataFrame({'a': np.random.randn(1000) + 1,'b': np.random.randn(1000),'c': np.random.randn(1000) - 1},columns=['a', 'b', 'c'])\n",
    "df4"
   ]
  },
  {
   "cell_type": "code",
   "execution_count": 12,
   "id": "bc3a94d2",
   "metadata": {},
   "outputs": [
    {
     "data": {
      "text/plain": [
       "<Figure size 432x288 with 0 Axes>"
      ]
     },
     "metadata": {},
     "output_type": "display_data"
    },
    {
     "data": {
      "image/png": "[encoded data removed]",
      "text/plain": [
       "<Figure size 432x288 with 1 Axes>"
      ]
     },
     "metadata": {
      "needs_background": "light"
     },
     "output_type": "display_data"
    }
   ],
   "source": [
    "plt.figure();\n",
    "df4.plot.hist(stacked=True, bins=20)\n",
    "df4.plot.hist?\n",
    "plt.show()"
   ]
  },
  {
   "cell_type": "code",
   "execution_count": 8,
   "id": "a3d9d5e6",
   "metadata": {},
   "outputs": [
    {
     "data": {
      "text/html": [
       "<div>\n",
       "<style scoped>\n",
       "    .dataframe tbody tr th:only-of-type {\n",
       "        vertical-align: middle;\n",
       "    }\n",
       "\n",
       "    .dataframe tbody tr th {\n",
       "        vertical-align: top;\n",
       "    }\n",
       "\n",
       "    .dataframe thead th {\n",
       "        text-align: right;\n",
       "    }\n",
       "</style>\n",
       "<table border=\"1\" class=\"dataframe\">\n",
       "  <thead>\n",
       "    <tr style=\"text-align: right;\">\n",
       "      <th></th>\n",
       "      <th>A</th>\n",
       "      <th>B</th>\n",
       "      <th>C</th>\n",
       "      <th>D</th>\n",
       "      <th>E</th>\n",
       "    </tr>\n",
       "  </thead>\n",
       "  <tbody>\n",
       "    <tr>\n",
       "      <th>0</th>\n",
       "      <td>0.972195</td>\n",
       "      <td>0.253642</td>\n",
       "      <td>0.934820</td>\n",
       "      <td>0.236148</td>\n",
       "      <td>0.507509</td>\n",
       "    </tr>\n",
       "    <tr>\n",
       "      <th>1</th>\n",
       "      <td>0.083016</td>\n",
       "      <td>0.279849</td>\n",
       "      <td>0.184196</td>\n",
       "      <td>0.831403</td>\n",
       "      <td>0.511734</td>\n",
       "    </tr>\n",
       "    <tr>\n",
       "      <th>2</th>\n",
       "      <td>0.613604</td>\n",
       "      <td>0.951385</td>\n",
       "      <td>0.326285</td>\n",
       "      <td>0.606720</td>\n",
       "      <td>0.019889</td>\n",
       "    </tr>\n",
       "    <tr>\n",
       "      <th>3</th>\n",
       "      <td>0.132494</td>\n",
       "      <td>0.832323</td>\n",
       "      <td>0.191598</td>\n",
       "      <td>0.671218</td>\n",
       "      <td>0.672077</td>\n",
       "    </tr>\n",
       "    <tr>\n",
       "      <th>4</th>\n",
       "      <td>0.639523</td>\n",
       "      <td>0.321189</td>\n",
       "      <td>0.082369</td>\n",
       "      <td>0.623247</td>\n",
       "      <td>0.393896</td>\n",
       "    </tr>\n",
       "    <tr>\n",
       "      <th>5</th>\n",
       "      <td>0.321097</td>\n",
       "      <td>0.216919</td>\n",
       "      <td>0.609715</td>\n",
       "      <td>0.354646</td>\n",
       "      <td>0.750582</td>\n",
       "    </tr>\n",
       "    <tr>\n",
       "      <th>6</th>\n",
       "      <td>0.615367</td>\n",
       "      <td>0.835035</td>\n",
       "      <td>0.198978</td>\n",
       "      <td>0.617411</td>\n",
       "      <td>0.404168</td>\n",
       "    </tr>\n",
       "    <tr>\n",
       "      <th>7</th>\n",
       "      <td>0.027517</td>\n",
       "      <td>0.452813</td>\n",
       "      <td>0.259287</td>\n",
       "      <td>0.532130</td>\n",
       "      <td>0.889350</td>\n",
       "    </tr>\n",
       "    <tr>\n",
       "      <th>8</th>\n",
       "      <td>0.516262</td>\n",
       "      <td>0.727674</td>\n",
       "      <td>0.368634</td>\n",
       "      <td>0.327872</td>\n",
       "      <td>0.327634</td>\n",
       "    </tr>\n",
       "    <tr>\n",
       "      <th>9</th>\n",
       "      <td>0.735901</td>\n",
       "      <td>0.665664</td>\n",
       "      <td>0.094152</td>\n",
       "      <td>0.838125</td>\n",
       "      <td>0.533420</td>\n",
       "    </tr>\n",
       "  </tbody>\n",
       "</table>\n",
       "</div>"
      ],
      "text/plain": [
       "          A         B         C         D         E\n",
       "0  0.972195  0.253642  0.934820  0.236148  0.507509\n",
       "1  0.083016  0.279849  0.184196  0.831403  0.511734\n",
       "2  0.613604  0.951385  0.326285  0.606720  0.019889\n",
       "3  0.132494  0.832323  0.191598  0.671218  0.672077\n",
       "4  0.639523  0.321189  0.082369  0.623247  0.393896\n",
       "5  0.321097  0.216919  0.609715  0.354646  0.750582\n",
       "6  0.615367  0.835035  0.198978  0.617411  0.404168\n",
       "7  0.027517  0.452813  0.259287  0.532130  0.889350\n",
       "8  0.516262  0.727674  0.368634  0.327872  0.327634\n",
       "9  0.735901  0.665664  0.094152  0.838125  0.533420"
      ]
     },
     "execution_count": 8,
     "metadata": {},
     "output_type": "execute_result"
    }
   ],
   "source": [
    "df = pd.DataFrame(np.random.rand(10, 5),columns=['A', 'B', 'C', 'D', 'E'])\n",
    "df"
   ]
  },
  {
   "cell_type": "code",
   "execution_count": 9,
   "id": "74ff66fc",
   "metadata": {},
   "outputs": [
    {
     "data": {
      "text/plain": [
       "<Figure size 432x288 with 0 Axes>"
      ]
     },
     "metadata": {},
     "output_type": "display_data"
    },
    {
     "data": {
      "image/png": "[encoded data removed]",
      "text/plain": [
       "<Figure size 432x288 with 1 Axes>"
      ]
     },
     "metadata": {
      "needs_background": "light"
     },
     "output_type": "display_data"
    }
   ],
   "source": [
    "plt.figure()\n",
    "df.plot.box()\n",
    "plt.show()"
   ]
  },
  {
   "cell_type": "code",
   "execution_count": 10,
   "id": "6c3bd92d",
   "metadata": {},
   "outputs": [
    {
     "name": "stdout",
     "output_type": "stream",
     "text": [
      "{'boxes': 'DarkGreen', 'whiskers': 'DarkOrange', 'medians': 'DarkBlue', 'caps': 'Gray'}\n"
     ]
    }
   ],
   "source": [
    "color = dict(boxes='DarkGreen',whiskers='DarkOrange',medians='DarkBlue',caps='Gray')\n",
    "print(color)"
   ]
  },
  {
   "cell_type": "code",
   "execution_count": 11,
   "id": "60cc9f1f",
   "metadata": {},
   "outputs": [
    {
     "data": {
      "text/plain": [
       "<Figure size 432x288 with 0 Axes>"
      ]
     },
     "metadata": {},
     "output_type": "display_data"
    },
    {
     "data": {
      "image/png": "[encoded data removed]",
      "text/plain": [
       "<Figure size 432x288 with 1 Axes>"
      ]
     },
     "metadata": {
      "needs_background": "light"
     },
     "output_type": "display_data"
    }
   ],
   "source": [
    "plt.figure()\n",
    "df.plot.box(color=color, sym='r+')\n",
    "plt.show()"
   ]
  }
 ],
 "metadata": {
  "kernelspec": {
   "display_name": "Python 3 (ipykernel)",
   "language": "python",
   "name": "python3"
  },
  "language_info": {
   "codemirror_mode": {
    "name": "ipython",
    "version": 3
   },
   "file_extension": ".py",
   "mimetype": "text/x-python",
   "name": "python",
   "nbconvert_exporter": "python",
   "pygments_lexer": "ipython3",
   "version": "3.9.12"
  }
 },
 "nbformat": 4,
 "nbformat_minor": 5
}
