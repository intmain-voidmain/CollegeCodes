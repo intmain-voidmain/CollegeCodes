{
 "cells": [
  {
   "cell_type": "markdown",
   "id": "dceada21",
   "metadata": {},
   "source": [
    "# 1.Create a 10x10 array with random values and find the minimum and maximum values"
   ]
  },
  {
   "cell_type": "code",
   "execution_count": 1,
   "id": "c60e2f53",
   "metadata": {},
   "outputs": [],
   "source": [
    "import numpy as np"
   ]
  },
  {
   "cell_type": "code",
   "execution_count": 2,
   "id": "c4ee0626",
   "metadata": {},
   "outputs": [],
   "source": [
    "X=np.random?"
   ]
  },
  {
   "cell_type": "code",
   "execution_count": 3,
   "id": "b833f0bc",
   "metadata": {},
   "outputs": [],
   "source": [
    "X=np.random.randint?"
   ]
  },
  {
   "cell_type": "code",
   "execution_count": 10,
   "id": "53668a70",
   "metadata": {},
   "outputs": [
    {
     "data": {
      "text/plain": [
       "array([[72, 49, 74, 69, 19,  9, 84, 61, 72, 14],\n",
       "       [ 5, 77, 65, 48, 15, 88, 69, 83, 13, 83],\n",
       "       [45, 19, 80, 18, 63, 48, 86, 25, 80, 54],\n",
       "       [22,  0, 28, 50, 71, 18, 17, 29, 77, 37],\n",
       "       [41, 45, 75,  6, 58, 38, 21, 56, 55, 30],\n",
       "       [42, 91, 57, 98, 64, 48, 74,  2, 98, 67],\n",
       "       [97, 37, 58, 40, 98, 42,  1, 65, 69, 32],\n",
       "       [ 0, 79, 81, 50, 99, 20, 27,  9,  7, 35],\n",
       "       [16, 62, 18, 99, 64, 49, 49, 82, 51, 75],\n",
       "       [97, 91, 91, 75, 18, 61, 78,  1, 33, 54]])"
      ]
     },
     "execution_count": 10,
     "metadata": {},
     "output_type": "execute_result"
    }
   ],
   "source": [
    "X=np.random.randint(100,size=(10,10))\n",
    "X"
   ]
  },
  {
   "cell_type": "code",
   "execution_count": 11,
   "id": "e24ce5ad",
   "metadata": {},
   "outputs": [
    {
     "name": "stdout",
     "output_type": "stream",
     "text": [
      "0\n",
      "99\n"
     ]
    }
   ],
   "source": [
    "print(np.min(X))\n",
    "print(np.max(X))"
   ]
  },
  {
   "cell_type": "markdown",
   "id": "2acd568c",
   "metadata": {},
   "source": [
    "# Create a 3x3 matrix with values ranging from 0 to 8"
   ]
  },
  {
   "cell_type": "code",
   "execution_count": 12,
   "id": "8f220234",
   "metadata": {},
   "outputs": [
    {
     "data": {
      "text/plain": [
       "array([[0, 1, 2],\n",
       "       [3, 4, 5],\n",
       "       [6, 7, 8]])"
      ]
     },
     "execution_count": 12,
     "metadata": {},
     "output_type": "execute_result"
    }
   ],
   "source": [
    "X=np.arange(9)\n",
    "X = X.reshape((3,3))\n",
    "X"
   ]
  },
  {
   "cell_type": "markdown",
   "id": "eea26a7d",
   "metadata": {},
   "source": [
    "# Create a 3x3 identity matrix"
   ]
  },
  {
   "cell_type": "code",
   "execution_count": 13,
   "id": "788e3f6a",
   "metadata": {},
   "outputs": [
    {
     "data": {
      "text/plain": [
       "array([[1., 0., 0.],\n",
       "       [0., 1., 0.],\n",
       "       [0., 0., 1.]])"
      ]
     },
     "execution_count": 13,
     "metadata": {},
     "output_type": "execute_result"
    }
   ],
   "source": [
    "np.identity(3)"
   ]
  },
  {
   "cell_type": "markdown",
   "id": "0dc9cdd9",
   "metadata": {},
   "source": [
    "# Create a 5x5 random matrix"
   ]
  },
  {
   "cell_type": "code",
   "execution_count": 16,
   "id": "f7addc68",
   "metadata": {},
   "outputs": [
    {
     "data": {
      "text/plain": [
       "array([[8, 6, 4, 0, 1],\n",
       "       [1, 4, 7, 1, 5],\n",
       "       [0, 8, 3, 0, 6],\n",
       "       [5, 6, 8, 7, 2],\n",
       "       [0, 8, 6, 8, 4]])"
      ]
     },
     "execution_count": 16,
     "metadata": {},
     "output_type": "execute_result"
    }
   ],
   "source": [
    "np.random.randint(9,size=(5,5))"
   ]
  },
  {
   "cell_type": "markdown",
   "id": "f2ab01b8",
   "metadata": {},
   "source": [
    "# create diagonal matrix 6 x 6 with np.tri function."
   ]
  },
  {
   "cell_type": "code",
   "execution_count": 24,
   "id": "eb59fab2",
   "metadata": {},
   "outputs": [
    {
     "data": {
      "text/plain": [
       "array([[1., 0., 0., 0., 0., 0.],\n",
       "       [0., 1., 0., 0., 0., 0.],\n",
       "       [0., 0., 1., 0., 0., 0.],\n",
       "       [0., 0., 0., 1., 0., 0.],\n",
       "       [0., 0., 0., 0., 1., 0.],\n",
       "       [0., 0., 0., 0., 0., 1.]])"
      ]
     },
     "execution_count": 24,
     "metadata": {},
     "output_type": "execute_result"
    }
   ],
   "source": [
    "# np.tri(6,6,0)\n",
    "np.subtract(np.tri(6,6,0),np.tri(6,6,-1))"
   ]
  },
  {
   "cell_type": "markdown",
   "id": "d6bfab44",
   "metadata": {},
   "source": [
    "# Create a 1-D array of 20 evenly spaced elements between 10. and 20., inclusive. (linspace)"
   ]
  },
  {
   "cell_type": "code",
   "execution_count": 23,
   "id": "5f928665",
   "metadata": {},
   "outputs": [
    {
     "data": {
      "text/plain": [
       "array([10.        , 10.52631579, 11.05263158, 11.57894737, 12.10526316,\n",
       "       12.63157895, 13.15789474, 13.68421053, 14.21052632, 14.73684211,\n",
       "       15.26315789, 15.78947368, 16.31578947, 16.84210526, 17.36842105,\n",
       "       17.89473684, 18.42105263, 18.94736842, 19.47368421, 20.        ])"
      ]
     },
     "execution_count": 23,
     "metadata": {},
     "output_type": "execute_result"
    }
   ],
   "source": [
    "np.linspace(10.,20.,20)"
   ]
  },
  {
   "cell_type": "markdown",
   "id": "9d33c3bf",
   "metadata": {},
   "source": [
    "# Create one 3 x 4 random matrix and one 3x4 identity matrix - Perform add(), subtract(), multiply() and dot()."
   ]
  },
  {
   "cell_type": "code",
   "execution_count": 29,
   "id": "30ad4159",
   "metadata": {},
   "outputs": [
    {
     "data": {
      "text/plain": [
       "array([[ 9,  2, 15,  6],\n",
       "       [11, 12,  3, 10],\n",
       "       [ 6,  6,  6,  5]])"
      ]
     },
     "execution_count": 29,
     "metadata": {},
     "output_type": "execute_result"
    }
   ],
   "source": [
    "x = np.random.randint(12,size=(3,4))\n",
    "y = np.random.randint(12,size=(3,4))\n",
    "np.add(x,y)"
   ]
  },
  {
   "cell_type": "code",
   "execution_count": 30,
   "id": "6da0ae42",
   "metadata": {},
   "outputs": [
    {
     "data": {
      "text/plain": [
       "array([[-7,  0,  1,  0],\n",
       "       [ 3, -6,  1, -6],\n",
       "       [ 4,  6,  6,  3]])"
      ]
     },
     "execution_count": 30,
     "metadata": {},
     "output_type": "execute_result"
    }
   ],
   "source": [
    "np.subtract(x,y)"
   ]
  },
  {
   "cell_type": "code",
   "execution_count": 32,
   "id": "d1790426",
   "metadata": {},
   "outputs": [
    {
     "data": {
      "text/plain": [
       "array([[ 8,  1, 56,  9],\n",
       "       [28, 27,  2, 16],\n",
       "       [ 5,  0,  0,  4]])"
      ]
     },
     "execution_count": 32,
     "metadata": {},
     "output_type": "execute_result"
    }
   ],
   "source": [
    "np.multiply(x,y)"
   ]
  },
  {
   "cell_type": "code",
   "execution_count": 34,
   "id": "bd281edb",
   "metadata": {},
   "outputs": [
    {
     "data": {
      "text/plain": [
       "array([[ 74,  45,   4],\n",
       "       [ 79,  73,   9],\n",
       "       [100, 112,   9]])"
      ]
     },
     "execution_count": 34,
     "metadata": {},
     "output_type": "execute_result"
    }
   ],
   "source": [
    "np.dot(x,np.transpose(y))"
   ]
  }
 ],
 "metadata": {
  "kernelspec": {
   "display_name": "Python 3 (ipykernel)",
   "language": "python",
   "name": "python3"
  },
  "language_info": {
   "codemirror_mode": {
    "name": "ipython",
    "version": 3
   },
   "file_extension": ".py",
   "mimetype": "text/x-python",
   "name": "python",
   "nbconvert_exporter": "python",
   "pygments_lexer": "ipython3",
   "version": "3.9.12"
  }
 },
 "nbformat": 4,
 "nbformat_minor": 5
}
